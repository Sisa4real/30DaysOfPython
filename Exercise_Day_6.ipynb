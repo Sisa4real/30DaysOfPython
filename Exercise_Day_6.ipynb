{
 "cells": [
  {
   "cell_type": "code",
   "execution_count": 2,
   "id": "32c9bbd7",
   "metadata": {},
   "outputs": [
    {
     "name": "stdout",
     "output_type": "stream",
     "text": [
      "()\n",
      "('Usman', 'Fauzan', 'Coder', 'Jafar', 'Katsina', 'Abuja', 'Kano', 'Gombe')\n",
      "I have  8  combination\n",
      "My tuple combination :\n",
      "('Bugaje', 'Sokoto', 'Usman', 'Fauzan', 'Coder', 'Jafar', 'Katsina', 'Abuja', 'Kano', 'Gombe')\n"
     ]
    }
   ],
   "source": [
    "#Exercise levvel 1\n",
    "#Question (1 - 5)\n",
    "\n",
    "tuple_1 = tuple()\n",
    "print(tuple_1)\n",
    "\n",
    "\n",
    "course_mates = ('Usman', 'Fauzan', 'Coder', 'Jafar') #My course mates\n",
    "cities_visited = ('Katsina', 'Abuja', 'Kano', 'Gombe') #The name of some cities I visited\n",
    "\n",
    "combination = course_mates + cities_visited #Joining the two\n",
    "print(combination)\n",
    "\n",
    "len_combination = len(combination) #Finding the lenght of combination\n",
    "print('I have ', len_combination, ' combination')\n",
    "\n",
    "combination = list(combination) #Converting tuple to list\n",
    "\n",
    "combination.insert(0, 'Bugaje') \n",
    "combination.insert(1, 'Sokoto') \n",
    "\n",
    "combination= tuple(combination) #Converting list to tuples\n",
    "\n",
    "combination_1 = combination \n",
    "print('My tuple combination :')\n",
    "print(combination)"
   ]
  },
  {
   "cell_type": "code",
   "execution_count": null,
   "id": "affeea33",
   "metadata": {},
   "outputs": [],
   "source": []
  }
 ],
 "metadata": {
  "kernelspec": {
   "display_name": "Python 3 (ipykernel)",
   "language": "python",
   "name": "python3"
  },
  "language_info": {
   "codemirror_mode": {
    "name": "ipython",
    "version": 3
   },
   "file_extension": ".py",
   "mimetype": "text/x-python",
   "name": "python",
   "nbconvert_exporter": "python",
   "pygments_lexer": "ipython3",
   "version": "3.9.12"
  }
 },
 "nbformat": 4,
 "nbformat_minor": 5
}
