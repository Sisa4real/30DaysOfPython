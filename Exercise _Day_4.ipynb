{
 "cells": [
  {
   "cell_type": "code",
   "execution_count": 1,
   "id": "ea479aaa",
   "metadata": {},
   "outputs": [
    {
     "name": "stdout",
     "output_type": "stream",
     "text": [
      "Thirty  Days  Of  Python \n"
     ]
    }
   ],
   "source": [
    "#Question 1\n",
    "\n",
    "thirty, Days, Of, Python= 'Thirty ', 'Days ', 'Of ', 'Python '\n",
    "print(thirty , Days , Of , Python)"
   ]
  },
  {
   "cell_type": "code",
   "execution_count": 2,
   "id": "2700e922",
   "metadata": {},
   "outputs": [
    {
     "name": "stdout",
     "output_type": "stream",
     "text": [
      "Coding For All\n"
     ]
    }
   ],
   "source": [
    "#Question 2\n",
    "str_1 = 'Coding'\n",
    "str_2 = 'For'\n",
    "str_3 = 'All'\n",
    "\n",
    "\n",
    "print(str_1, str_2, str_3)"
   ]
  },
  {
   "cell_type": "code",
   "execution_count": null,
   "id": "20b09a1c",
   "metadata": {},
   "outputs": [],
   "source": [
    "#Question 3\n",
    "company=\"Coding For All\"\n",
    "\n",
    "\n",
    "\n",
    "\n",
    "\n",
    "\n",
    "\n",
    "\n",
    "\n"
   ]
  },
  {
   "cell_type": "code",
   "execution_count": null,
   "id": "626181e8",
   "metadata": {},
   "outputs": [],
   "source": [
    "#Question 4print(company)"
   ]
  },
  {
   "cell_type": "code",
   "execution_count": null,
   "id": "4719daa1",
   "metadata": {},
   "outputs": [],
   "source": [
    "#Question 5\n",
    "\n",
    "print(len(company))"
   ]
  },
  {
   "cell_type": "code",
   "execution_count": null,
   "id": "9ffebd9b",
   "metadata": {},
   "outputs": [],
   "source": [
    "#Question 6\n",
    "\n",
    "print (company.upper())"
   ]
  },
  {
   "cell_type": "code",
   "execution_count": null,
   "id": "5062107f",
   "metadata": {},
   "outputs": [],
   "source": [
    "#Question 7\n",
    "\n",
    "print(company.lower())"
   ]
  },
  {
   "cell_type": "code",
   "execution_count": null,
   "id": "a7c72b80",
   "metadata": {},
   "outputs": [],
   "source": [
    "#Question 8\n",
    "\n",
    "print(company.capitalize())\n",
    "print(company.title())\n",
    "print(company.swapcase())"
   ]
  },
  {
   "cell_type": "code",
   "execution_count": null,
   "id": "1b31bb0b",
   "metadata": {},
   "outputs": [],
   "source": [
    "#Question 9\n",
    "\n",
    "print(company [0:7])"
   ]
  },
  {
   "cell_type": "code",
   "execution_count": null,
   "id": "7724fb07",
   "metadata": {},
   "outputs": [],
   "source": [
    "#Question 10\n",
    "\n",
    "print(company.find('Coding'))\n",
    "print(company.index(\"Coding\"))\n",
    "print(company.rfind('Coding'))\n",
    "print(company.rindex(\"Coding\"))"
   ]
  },
  {
   "cell_type": "code",
   "execution_count": null,
   "id": "647606a3",
   "metadata": {},
   "outputs": [],
   "source": [
    "#Question 11\n",
    "\n",
    "print(company.replace(\"Coding\", \"Python\"))"
   ]
  },
  {
   "cell_type": "code",
   "execution_count": null,
   "id": "18a40d9f",
   "metadata": {},
   "outputs": [],
   "source": [
    "# Queston 12\n",
    "Python_For_All=company.replace(\"Coding\", \"Python\")\n",
    "print(Python_For_All.replace(\"All\",\"Everyone\"))\n",
    "\n",
    "\n"
   ]
  },
  {
   "cell_type": "code",
   "execution_count": null,
   "id": "56a77cc0",
   "metadata": {},
   "outputs": [],
   "source": [
    "#Question 13\n",
    "\n",
    "print (company.split())"
   ]
  },
  {
   "cell_type": "code",
   "execution_count": null,
   "id": "b5117f1e",
   "metadata": {},
   "outputs": [],
   "source": [
    "#Question 14\n",
    "\n",
    "print(\"Facebook, Google, Microsoft, Apple, IBM, Oracle, Amazon\".split(', '))"
   ]
  },
  {
   "cell_type": "code",
   "execution_count": null,
   "id": "4b405d89",
   "metadata": {},
   "outputs": [],
   "source": [
    "#Question 15\n",
    "\n",
    "print(company [0])\n",
    "\n",
    "\n",
    "#Question 16\n",
    "print(company [-1])\n",
    "\n",
    "\n",
    "#Question 17\n",
    "print(company [10])"
   ]
  },
  {
   "cell_type": "code",
   "execution_count": null,
   "id": "7ade2948",
   "metadata": {},
   "outputs": [],
   "source": [
    "#Question 18\n",
    "\n",
    "Python_For_Everyone=Python_For_All.replace(\"All\", \"Everyone\")\n",
    "PFE=Python_For_Everyone[0]+ Python_For_Everyone[7]+ Python_For_Everyone[11]\n",
    "print (PFE.strip())\n",
    "\n",
    "\n",
    "\n",
    "\n",
    "#Question 19\n",
    "CFA=company[0]+company [7]+company [11]\n",
    "print (CFA.strip())\n",
    "\n",
    "\n",
    "\n",
    "#Question 20\n",
    "print(company.index(\"C\"))\n",
    "\n",
    "\n",
    "#Question 21\n",
    "print(company.index(\"F\"))\n",
    "\n",
    "\n",
    "#Question 22\n",
    "coding_for_all_people=company + \"People\"\n",
    "print(coding_for_all_people.rfind(\"l\"))\n"
   ]
  },
  {
   "cell_type": "code",
   "execution_count": null,
   "id": "7c6fbd9b",
   "metadata": {},
   "outputs": [],
   "source": [
    "#Question 23\n",
    "print ( 'You cannot end a sentence with because because because is a conjunction'.find(\"because\"))\n",
    "\n",
    "\n",
    "\n",
    "#Question 24\n",
    "print ( 'You cannot end a sentence with because because because is a conjunction'.rindex(\"because\"))\n",
    "\n",
    "\n",
    "\n",
    "#Question 25\n",
    "print ( 'You cannot end a sentence with because because because is a conjunction'[31:-17])\n",
    "\n",
    "\n",
    "#Quetion 26\n",
    "print (\"You cannot end a sentence with because because because is a conjunction\".find(\"because\"))\n",
    "\n",
    "\n",
    "\n",
    "#Question 27\n",
    "print ( 'You cannot end a sentence with because because because is a conjunction'[31:-17])\n",
    "\n",
    "\n",
    "\n",
    "\n",
    "\n",
    "#Question 28\n",
    "print (company.startswith(\"Coding\"))\n",
    "\n",
    "\n",
    "\n",
    "\n",
    "#Question 29\n",
    "print (company.endswith(\"Coding\"))\n",
    "\n",
    "\n",
    "\n",
    "\n",
    "\n",
    "#Question 30\n",
    "print ('   Coding For All      '.strip())\n",
    "\n",
    "\n"
   ]
  },
  {
   "cell_type": "code",
   "execution_count": null,
   "id": "bab4d210",
   "metadata": {},
   "outputs": [],
   "source": [
    "#Question 31\n",
    "\n",
    "print (\"thirty_days_of_python\". isidentifier ())\n",
    "\n",
    "#Question 32\n",
    "libraries=['Django', 'Flask', 'Bottle', 'Pyramid', 'Falcon']\n",
    "print(\" # \".join(libraries))\n",
    "\n",
    "\n",
    "#Question 33\n",
    "print (\"I am enjoying this challenge. \\nI just wonder what is next.\")\n",
    "\n",
    "\n",
    "\n",
    "#Question 34\n",
    "print (\"Name      \\tAge     \\tCountry   \\tCity \\nAsabeneh  \\t250     \\tFinland   \\tHelsinki\")"
   ]
  },
  {
   "cell_type": "code",
   "execution_count": null,
   "id": "1b2ea15a",
   "metadata": {},
   "outputs": [],
   "source": [
    "# Question 35\n",
    "radius = 10\n",
    "area = 3.14 * radius ** 2\n",
    "print (f\"The area of a circle with radius {radius} is {area} meters \")\n"
   ]
  },
  {
   "cell_type": "code",
   "execution_count": 3,
   "id": "688b57ae",
   "metadata": {},
   "outputs": [
    {
     "name": "stdout",
     "output_type": "stream",
     "text": [
      "8 + 6 = 14\n",
      "8 - 6 = 14\n",
      "8*6 = 48\n",
      "8/6 = 1.3333333333333333\n",
      "8%6 = 2\n",
      "8//6 = 1\n",
      "8**6 = 262144\n"
     ]
    }
   ],
   "source": [
    "#Question 36\n",
    "a=8\n",
    "b=6\n",
    "print (f\"{a} + {b} = {a+b}\")\n",
    "print (f\"{a} - {b} = {a+b}\")\n",
    "print (f\"{a}*{b} = {a*b}\")\n",
    "print (f\"{a}/{b} = {a/b}\")\n",
    "print (f\"{a}%{b} = {a%b}\")\n",
    "print (f\"{a}//{b} = {a//b}\")\n",
    "print (f\"{a}**{b} = {a**b}\")\n"
   ]
  },
  {
   "cell_type": "code",
   "execution_count": null,
   "id": "2c2dd0b2",
   "metadata": {},
   "outputs": [],
   "source": []
  }
 ],
 "metadata": {
  "kernelspec": {
   "display_name": "Python 3 (ipykernel)",
   "language": "python",
   "name": "python3"
  },
  "language_info": {
   "codemirror_mode": {
    "name": "ipython",
    "version": 3
   },
   "file_extension": ".py",
   "mimetype": "text/x-python",
   "name": "python",
   "nbconvert_exporter": "python",
   "pygments_lexer": "ipython3",
   "version": "3.9.12"
  }
 },
 "nbformat": 4,
 "nbformat_minor": 5
}
