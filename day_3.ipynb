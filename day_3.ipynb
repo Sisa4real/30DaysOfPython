{
 "cells": [
  {
   "cell_type": "code",
   "execution_count": null,
   "id": "1c710a2e",
   "metadata": {},
   "outputs": [],
   "source": [
    "#Question 1\n",
    "\n",
    "my_age = 21  #declaring my age variable as an integer\n",
    "\n",
    "\n",
    "#Question 2\n",
    "my_height = 1.7 #declaring my heaigjy=t as a float\n",
    "\n",
    "\n",
    "#Question 3\n",
    "complex_num = 2 + 5j #declaring a comlex number\n",
    "\n",
    "\n",
    "#Question 4\n",
    "\n",
    "base_of_triangle = eval(input(\"Enter the base of your triangle : \"))\n",
    "height_of_triangle = eval(input(\"Enter the height of your triangle: \"))\n",
    "area_of_triangle = 0.5 * base_of_triangle * height_of_triangle\n",
    "print(\"The area of the Triangle is:\", area_of_triangle)\n",
    "    \n"
   ]
  },
  {
   "cell_type": "code",
   "execution_count": null,
   "id": "360fc822",
   "metadata": {},
   "outputs": [],
   "source": [
    "#quetion 5\n",
    "side_a = eval(input(\"Enter the length of side a: \"))\n",
    "side_b = eval(input(\"Enter the length of side b: \"))\n",
    "side_c = eval(input(\"Enter the length of side c: \"))\n",
    "\n",
    "print(\"the perimeter of the Triangle is: \", side_a + side_b + side_c, \"m\")"
   ]
  },
  {
   "cell_type": "code",
   "execution_count": null,
   "id": "4ee4c2c6",
   "metadata": {},
   "outputs": [],
   "source": [
    "#Question 6\n",
    "\n",
    "length = eval(input(\"Enter the length of your rectangle: \"))\n",
    "width = eval(input(\"Enter the width of your rectangle: \"))\n",
    "area_of_rectangle = length *width\n",
    "perimeter_of_rectangle = 2 *(length + width)\n",
    "\n",
    "print(\"The area of the rectangle is: \", area_of_rectangle)\n",
    "print(\"The perimeter of of the rectangle is :\", perimeter_of_rectangle)"
   ]
  },
  {
   "cell_type": "code",
   "execution_count": null,
   "id": "bfd8dbd3",
   "metadata": {},
   "outputs": [],
   "source": [
    "#quetions 7\n",
    "\n",
    "pi = 3.14\n",
    "radius = eval(input(\"enter your radius: \"))\n",
    "\n",
    "area_of_circle = pi * radius **2\n",
    "\n",
    "circumf = 2*pi*2\n",
    "\n",
    "print(\"The area of circle is: \", area_of_circle)\n",
    "print(\"The circumference of the circleis :\", circumf)"
   ]
  },
  {
   "cell_type": "code",
   "execution_count": null,
   "id": "05ba6ecf",
   "metadata": {},
   "outputs": [],
   "source": [
    "#Question 8\n",
    "\n",
    "y = 2 * 0 - 2\n",
    "x = ( 2 * 0 ) / 2\n",
    "print(\"The x-intercept of y = 2x-2 is: \",x, \" and \", \"the y-intercept is: \", y)\n"
   ]
  },
  {
   "cell_type": "code",
   "execution_count": null,
   "id": "703e54b6",
   "metadata": {},
   "outputs": [],
   "source": [
    "#Question 9\n",
    "\n",
    "x = eval(input('Enter the intercept x: '))\n",
    "slope1 = 2 * x - 2 \n",
    "print('The Slope is: ', slope1)\n",
    "\n",
    "#Question 10\n",
    "x1, x2, y1, y2 = 2, 2, 6, 10\n",
    "slope2 = (y2-y1 / x2-x1)\n",
    "print('The Slope is: ', slope2)\n",
    "\n",
    "\n",
    "#Question 11\n",
    "#compare\n",
    "print(slope1 is slope2)\n",
    "\n",
    "\n",
    "import math\n",
    "euclidean_dist =  math.sqrt((x1-y1)**2 + (x2-y2)**2)\n",
    "print('the euclidean distance : ', euclidean_dist)"
   ]
  },
  {
   "cell_type": "code",
   "execution_count": null,
   "id": "8a1f3d1e",
   "metadata": {},
   "outputs": [],
   "source": [
    "#Question `12\n",
    "\n",
    "print(len('python'))\n",
    "print(len('dragon'))\n",
    "print(len('python') > len('dragon'))"
   ]
  },
  {
   "cell_type": "code",
   "execution_count": null,
   "id": "26b07d4b",
   "metadata": {},
   "outputs": [],
   "source": [
    "#Question 13\n",
    "\n",
    "print('on' in 'python' and 'on' in 'dragon')  #True"
   ]
  },
  {
   "cell_type": "code",
   "execution_count": null,
   "id": "1cfd82b7",
   "metadata": {},
   "outputs": [],
   "source": [
    "#Question 14\n",
    "\n",
    "print('jargon' in 'I hope this course is not full of jargon') #True #checking if jargon exist in the sentence"
   ]
  },
  {
   "cell_type": "code",
   "execution_count": null,
   "id": "eaeb6984",
   "metadata": {},
   "outputs": [],
   "source": [
    "#question 15\n",
    "\n",
    "#False #checking if python and dragon doesn't exist in the sentence\n",
    "print('on' not in 'python' and 'on' not in 'dragon') "
   ]
  },
  {
   "cell_type": "code",
   "execution_count": null,
   "id": "59a5384f",
   "metadata": {},
   "outputs": [],
   "source": [
    "#Questions 16\n",
    "\n",
    "name = 'python'\n",
    "python_len = len(name)\n",
    "cnvrt_to_float = float(python_len)\n",
    "cnvrt_to_str = str(python_len)\n",
    "print(python_len)\n",
    "print(cnvrt_to_float)\n",
    "print(cnvrt_to_str)"
   ]
  },
  {
   "cell_type": "code",
   "execution_count": null,
   "id": "9c44940c",
   "metadata": {},
   "outputs": [],
   "source": [
    "#Question 17\n",
    "\n",
    "\n",
    "\n",
    "#Checking if a number is an Even  or Odd \n",
    "print(\"Enter a Number \")\n",
    "x = int(input())\n",
    "\n",
    "if x % 2==0:\n",
    "    print('The Number is Even')\n",
    "else:\n",
    "    print('The Number is Odd')"
   ]
  },
  {
   "cell_type": "code",
   "execution_count": null,
   "id": "d2e9aae4",
   "metadata": {},
   "outputs": [],
   "source": [
    "#Questions 18\n",
    "\n",
    "floor_div = 7//3 #2\n",
    "print(floor_div)\n",
    "\n",
    "cnvrt_value = int(2.7)   #2\n",
    "print(cnvrt_value)\n",
    "\n",
    "print(floor_div is cnvrt_value) #True because floor division of 7 by 3 == converted value of 2.7"
   ]
  },
  {
   "cell_type": "code",
   "execution_count": null,
   "id": "cb87be0e",
   "metadata": {},
   "outputs": [],
   "source": [
    "#Questions 19\n",
    "\n",
    "print(type('10') is type(10)) #Flase because type '10' is a string while type 10 is an int"
   ]
  },
  {
   "cell_type": "code",
   "execution_count": null,
   "id": "f3340fd1",
   "metadata": {},
   "outputs": [],
   "source": [
    "#Question 20\n",
    "\n",
    "my_str = '9.8'\n",
    "my_int = 10\n",
    "\n",
    "equal = my_str == my_int  #False because ('9.8') is a string while 10 is an int\n",
    "print(equal)"
   ]
  },
  {
   "cell_type": "code",
   "execution_count": null,
   "id": "6288e4fa",
   "metadata": {},
   "outputs": [],
   "source": [
    "#Question 21\n",
    "\n",
    "'''In this program user need to enter \n",
    "the hours and rate per hour '''\n",
    "\n",
    "hours = int(input('Enter hours: '))\n",
    "rate = int(input('Enter rate per hour: '))\n",
    "\n",
    "weekly_earning =  hours * rate\n",
    "print('Your weekly earning is: ', weekly_earning)"
   ]
  },
  {
   "cell_type": "code",
   "execution_count": null,
   "id": "e360b13e",
   "metadata": {},
   "outputs": [],
   "source": [
    "#Question 22\n",
    "\n",
    "'''In this program user need to enter \n",
    "the number of years '''\n",
    "\n",
    "years = int(input('Enter number of years you have lived: '))\n",
    "total =  31536000 * years\n",
    "print('You have lived for ', total,' ', 'seconds')"
   ]
  },
  {
   "cell_type": "code",
   "execution_count": null,
   "id": "2874510b",
   "metadata": {},
   "outputs": [],
   "source": [
    "#Queation 23\n",
    "\n",
    "t = '1 1 1 1 1', '2 1 2 4 8', '3 1 3 9 27', '4 1 4 16 64', '5 1 5 25 125'\n",
    "\n",
    "for i in t:\n",
    "    print(i)"
   ]
  },
  {
   "cell_type": "code",
   "execution_count": null,
   "id": "66a02141",
   "metadata": {},
   "outputs": [],
   "source": []
  },
  {
   "cell_type": "code",
   "execution_count": null,
   "id": "a6c4e04e",
   "metadata": {},
   "outputs": [],
   "source": []
  }
 ],
 "metadata": {
  "kernelspec": {
   "display_name": "Python 3 (ipykernel)",
   "language": "python",
   "name": "python3"
  },
  "language_info": {
   "codemirror_mode": {
    "name": "ipython",
    "version": 3
   },
   "file_extension": ".py",
   "mimetype": "text/x-python",
   "name": "python",
   "nbconvert_exporter": "python",
   "pygments_lexer": "ipython3",
   "version": "3.9.12"
  }
 },
 "nbformat": 4,
 "nbformat_minor": 5
}
