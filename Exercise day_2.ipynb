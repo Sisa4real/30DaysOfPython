{
 "cells": [
  {
   "cell_type": "code",
   "execution_count": 1,
   "id": "cf484ec4",
   "metadata": {},
   "outputs": [],
   "source": [
    "#30 Days of programming\n",
    "\n",
    "firt_name = \"Sufyan\"\n",
    "last_name = \"Ibrahim\"\n",
    "full_name = \"Sufyan Ibrahim\"\n",
    "country = \"Nigeria\"\n",
    "city = \"Katsina\"\n",
    "age = 100\n",
    "year = 2023\n",
    "is_married = False\n",
    "is_true = False\n",
    "is_light_on = True\n",
    "first_name, last_name, full_name, age, is_married = \"Sufyan\", \"Ibrahim\", \"Sufyan Ibrahim\", 120, \"No\"\n",
    "\n"
   ]
  },
  {
   "cell_type": "code",
   "execution_count": 2,
   "id": "aa0513fe",
   "metadata": {},
   "outputs": [
    {
     "name": "stdout",
     "output_type": "stream",
     "text": [
      "<class 'str'>\n",
      "<class 'str'>\n",
      "<class 'str'>\n",
      "<class 'str'>\n",
      "<class 'str'>\n",
      "<class 'int'>\n",
      "<class 'int'>\n",
      "<class 'str'>\n",
      "<class 'bool'>\n",
      "<class 'bool'>\n"
     ]
    }
   ],
   "source": [
    "#Level 2\n",
    "print(type(firt_name))\n",
    "print(type(last_name))\n",
    "print(type(full_name))\n",
    "print(type(country))\n",
    "print(type(city))\n",
    "print(type(age))\n",
    "print(type(year))\n",
    "print(type(is_married))\n",
    "print(type(is_true))\n",
    "print(type(is_light_on))"
   ]
  },
  {
   "cell_type": "code",
   "execution_count": 3,
   "id": "2800b3b8",
   "metadata": {},
   "outputs": [
    {
     "name": "stdout",
     "output_type": "stream",
     "text": [
      "6\n"
     ]
    }
   ],
   "source": [
    "len_first_name = len(firt_name)\n",
    "print(len_first_name)"
   ]
  },
  {
   "cell_type": "code",
   "execution_count": 4,
   "id": "472c7753",
   "metadata": {},
   "outputs": [
    {
     "name": "stdout",
     "output_type": "stream",
     "text": [
      "False\n"
     ]
    }
   ],
   "source": [
    "print(len(first_name)==len(last_name))"
   ]
  },
  {
   "cell_type": "code",
   "execution_count": 5,
   "id": "0fb51bdc",
   "metadata": {},
   "outputs": [],
   "source": [
    "num_one = 5 \n",
    "num_two = 4\n",
    "\n",
    "total =  num_one +num_two\n",
    "diff  = num_one - num_two\n",
    "product = num_one * num_two\n",
    "division = num_one / num_two\n",
    "remainder = num_one % num_two\n",
    "exp = num_one ** num_two\n",
    "floor_division = num_one // num_two\n"
   ]
  },
  {
   "cell_type": "code",
   "execution_count": 11,
   "id": "749a21ab",
   "metadata": {},
   "outputs": [
    {
     "name": "stdout",
     "output_type": "stream",
     "text": [
      "2828.5714285714284 meters\n",
      "188.57142857142856 meters\n",
      "Enter the radius of your circle: 23\n",
      "1662.5714285714284 meters\n",
      "144.57142857142856 meters\n"
     ]
    }
   ],
   "source": [
    "rad_circle = 30\n",
    "pi_value = 22/7\n",
    "\n",
    "\n",
    "area_of_circle = (pi_value)*(rad_circle)**2\n",
    "\n",
    "circum_of_circle = 2*rad_circle *pi_value\n",
    "\n",
    "print(area_of_circle, \"meters\")\n",
    "print(circum_of_circle, \"meters\")\n",
    "\n",
    "r_circle  = int(input(\"Enter the radius of your circle: \"))\n",
    "\n",
    "area_of_circle = (pi_value)*(r_circle)**2\n",
    "\n",
    "circum_of_circle = 2*r_circle *pi_value\n",
    "\n",
    "print(area_of_circle, \"meters\")\n",
    "print(circum_of_circle, \"meters\")\n",
    "\n",
    "\n"
   ]
  },
  {
   "cell_type": "code",
   "execution_count": 13,
   "id": "9eec59d0",
   "metadata": {},
   "outputs": [
    {
     "name": "stdout",
     "output_type": "stream",
     "text": [
      "enter your first name: musa\n",
      "Enter your last name: usman\n",
      "Enter your country: nigeria\n",
      "How old are you: 22\n",
      "I am musa usman from nigeria and I am 22 Years old\n"
     ]
    }
   ],
   "source": [
    "first_name = input(\"enter your first name: \")\n",
    "last_name = input(\"Enter your last name: \")\n",
    "country = input(\"Enter your country: \")\n",
    "age = input(\"How old are you: \")\n",
    "\n",
    "print(\"I am\", first_name, last_name, \"from\", country, \"and I am\", age, \"Years old\")"
   ]
  },
  {
   "cell_type": "code",
   "execution_count": null,
   "id": "1cefca95",
   "metadata": {},
   "outputs": [
    {
     "name": "stdout",
     "output_type": "stream",
     "text": [
      "\n",
      "Welcome to Python 3.9's help utility!\n",
      "\n",
      "If this is your first time using Python, you should definitely check out\n",
      "the tutorial on the Internet at https://docs.python.org/3.9/tutorial/.\n",
      "\n",
      "Enter the name of any module, keyword, or topic to get help on writing\n",
      "Python programs and using Python modules.  To quit this help utility and\n",
      "return to the interpreter, just type \"quit\".\n",
      "\n",
      "To get a list of available modules, keywords, symbols, or topics, type\n",
      "\"modules\", \"keywords\", \"symbols\", or \"topics\".  Each module also comes\n",
      "with a one-line summary of what it does; to list the modules whose name\n",
      "or summary contain a given string such as \"spam\", type \"modules spam\".\n",
      "\n",
      "help> keywords\n",
      "\n",
      "Here is a list of the Python keywords.  Enter any keyword to get more help.\n",
      "\n",
      "False               break               for                 not\n",
      "None                class               from                or\n",
      "True                continue            global              pass\n",
      "__peg_parser__      def                 if                  raise\n",
      "and                 del                 import              return\n",
      "as                  elif                in                  try\n",
      "assert              else                is                  while\n",
      "async               except              lambda              with\n",
      "await               finally             nonlocal            yield\n",
      "\n",
      "help> while\n",
      "The \"while\" statement\n",
      "*********************\n",
      "\n",
      "The \"while\" statement is used for repeated execution as long as an\n",
      "expression is true:\n",
      "\n",
      "   while_stmt ::= \"while\" assignment_expression \":\" suite\n",
      "                  [\"else\" \":\" suite]\n",
      "\n",
      "This repeatedly tests the expression and, if it is true, executes the\n",
      "first suite; if the expression is false (which may be the first time\n",
      "it is tested) the suite of the \"else\" clause, if present, is executed\n",
      "and the loop terminates.\n",
      "\n",
      "A \"break\" statement executed in the first suite terminates the loop\n",
      "without executing the \"else\" clause’s suite.  A \"continue\" statement\n",
      "executed in the first suite skips the rest of the suite and goes back\n",
      "to testing the expression.\n",
      "\n",
      "Related help topics: break, continue, if, TRUTHVALUE\n",
      "\n"
     ]
    }
   ],
   "source": [
    "help()"
   ]
  },
  {
   "cell_type": "code",
   "execution_count": null,
   "id": "bb03650b",
   "metadata": {},
   "outputs": [],
   "source": []
  },
  {
   "cell_type": "code",
   "execution_count": null,
   "id": "234ca16b",
   "metadata": {},
   "outputs": [],
   "source": []
  }
 ],
 "metadata": {
  "kernelspec": {
   "display_name": "Python 3 (ipykernel)",
   "language": "python",
   "name": "python3"
  },
  "language_info": {
   "codemirror_mode": {
    "name": "ipython",
    "version": 3
   },
   "file_extension": ".py",
   "mimetype": "text/x-python",
   "name": "python",
   "nbconvert_exporter": "python",
   "pygments_lexer": "ipython3",
   "version": "3.9.12"
  }
 },
 "nbformat": 4,
 "nbformat_minor": 5
}
