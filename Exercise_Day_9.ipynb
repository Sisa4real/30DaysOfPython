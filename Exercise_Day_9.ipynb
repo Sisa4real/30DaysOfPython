{
 "cells": [
  {
   "cell_type": "code",
   "execution_count": null,
   "id": "f8d53038",
   "metadata": {},
   "outputs": [],
   "source": [
    "#Exercise Level 1\n",
    "\n",
    "#Question 1\n",
    "\n",
    "age = int(input('Enter your age: '))\n",
    "if age >= 18:\n",
    "    print('You are old enough to drive')\n",
    "else:\n",
    "    print(f'You need {18-age} more years to learn to drive')\n"
   ]
  },
  {
   "cell_type": "code",
   "execution_count": null,
   "id": "4ac704aa",
   "metadata": {},
   "outputs": [],
   "source": [
    "#Question 2\n",
    "#Copmaring my age and your age \n",
    "my_age = 28\n",
    "your_age = int(input('Enter your age:'))\n",
    "\n",
    "\n",
    "if my_age > your_age:\n",
    "    if my_age - 1 == your_age:\n",
    "        print(\"I am one year older than you\")\n",
    "    else:\n",
    "        print(f'I am {my_age - your_age} years older than you')\n",
    "elif my_age < your_age:\n",
    "    if my_age + 1 == your_age:\n",
    "        print('You are one year older than me')\n",
    "    else:\n",
    "        print(f'You are {your_age - my_age} years older than me')\n",
    "else:\n",
    "    print('We are the same age')\n"
   ]
  },
  {
   "cell_type": "code",
   "execution_count": null,
   "id": "fde791c2",
   "metadata": {},
   "outputs": [],
   "source": [
    "#Question 3\n",
    "\n",
    "\n",
    "num_1 = int(input('Enter number one:'))\n",
    "num_2 = int(input('Enter number two:'))\n",
    "if num_1 < num_2:\n",
    "    print('num_1 is smaller than num_2')\n",
    "elif num_1 > num_2:\n",
    "    print('num_1 is greater than num_2')\n",
    "else:\n",
    "    print('num_1 is equal to num_2')"
   ]
  },
  {
   "cell_type": "code",
   "execution_count": null,
   "id": "4a0aed75",
   "metadata": {},
   "outputs": [],
   "source": [
    "#Exercise Level 2\n",
    "\n",
    "#Question 1\n",
    "\n",
    "score = float(input('Enter Score : '))\n",
    "\n",
    "if score >= 80 and score <= 100:\n",
    "    print('Your grade is A')\n",
    "elif score >= 70 and score <= 79:\n",
    "    print('Your grade is B')\n",
    "elif score >= 60 and score <= 69:\n",
    "    print('Your grade is C')\n",
    "elif score >= 50 and score <= 59:\n",
    "    print('Your grade is D')\n",
    "else:\n",
    "   print('Your grade is F')\n",
    "\n",
    "\n",
    "\n"
   ]
  },
  {
   "cell_type": "code",
   "execution_count": null,
   "id": "52d4b275",
   "metadata": {},
   "outputs": [],
   "source": [
    "#Question 2\n",
    "\n",
    "month = input('Enter season: ').capitalize()\n",
    "\n",
    "if month in ('September','October','November'):\n",
    "    print('The season is Autumn')\n",
    "elif month in ('December','January','February'):\n",
    "    print('The season is Winter')\n",
    "elif month in ('March', 'April','May'):\n",
    "    print('The season is Spring')\n",
    "elif month in ('June', 'July', 'August'):\n",
    "    print('The season is Summer')\n",
    "else: \n",
    "    print('Invalid Input')"
   ]
  },
  {
   "cell_type": "code",
   "execution_count": null,
   "id": "dd52cb3b",
   "metadata": {},
   "outputs": [],
   "source": [
    "#Question 3\n",
    "\n",
    "add_fruit = input('Enter fruit : ').lower()\n",
    "fruits = ['banana', 'orange', 'mango', 'lemon']\n",
    "\n",
    "if add_fruit in fruits:\n",
    "    print('That fruit already exist in the list')\n",
    "elif add_fruit not in fruits:\n",
    "    fruits.append(add_fruit)\n",
    "    print(fruits)"
   ]
  },
  {
   "cell_type": "code",
   "execution_count": null,
   "id": "7d43d301",
   "metadata": {},
   "outputs": [],
   "source": [
    "#Exercide level 3\n",
    "\n",
    "\n",
    "person={'first_name': 'Asabeneh','last_name':'Yetayeh', 'age': 250, 'country': 'Finland', 'is_marred': True,'skills': ['JavaScript' ,'React', 'Node', 'MongoDB', 'Python'], 'address': {'street': 'Space street','zipcode': '02210'}}\n",
    "#first check\n",
    "if \"skills\" in person and len(person[\"skills\"])%2==1:\n",
    "        middle_skill=person[\"skills\"][len(person[\"skills\"])//2]\n",
    "        print(\"the middle skill is: \", middle_skill)\n",
    "else:\n",
    "            middle1=person[\"skills\"][len(person[\"skills\"])//2]\n",
    "            middle2=person[\"skills\"][len(person[\"skills\"])//2-1]\n",
    "            print(\"the middle skills are: \", middle1, \" and \", middle2)\n",
    "            \n",
    "#second check\n",
    "if  \"skills\" in person:\n",
    "    print(\"Python\" in person[\"skills\"],)\n",
    "else:\n",
    "    print(\"no python skills\")\n",
    "#section\n",
    "input\n",
    "if len(person[\"skills\"])==2:\n",
    "      if \"JavaScript\" and \"React\" in person[\"skills\"]:\n",
    "          print(\"he is a frontend developer\")\n",
    "      else:\n",
    "         print(\"he has more skills\")\n",
    "if \"Node\" and \"Python\" and \"MongoDB\" in person[\"skills\"]:\n",
    "    print (\"he is a backend developer\")\n",
    "    if  \"React\" and \"Node\" and \"MongoDB\" in person[\"skills\"]:\n",
    "        print (\"he is a fullstack developer\")\n",
    "else:\n",
    "     print(\"unknown title\")\n",
    "#section\n",
    "if person[\"is_marred\"]==True:\n",
    "    if person[\"country\"]==\"Finland\":\n",
    "       print(person[\"first_name\"], person[\"last_name\"], \" lives in \", person[\"country\"],\". He is married\")"
   ]
  },
  {
   "cell_type": "code",
   "execution_count": null,
   "id": "e6c0caf9",
   "metadata": {},
   "outputs": [],
   "source": []
  },
  {
   "cell_type": "code",
   "execution_count": null,
   "id": "fb247fb0",
   "metadata": {},
   "outputs": [],
   "source": []
  }
 ],
 "metadata": {
  "kernelspec": {
   "display_name": "Python 3 (ipykernel)",
   "language": "python",
   "name": "python3"
  },
  "language_info": {
   "codemirror_mode": {
    "name": "ipython",
    "version": 3
   },
   "file_extension": ".py",
   "mimetype": "text/x-python",
   "name": "python",
   "nbconvert_exporter": "python",
   "pygments_lexer": "ipython3",
   "version": "3.9.12"
  }
 },
 "nbformat": 4,
 "nbformat_minor": 5
}
