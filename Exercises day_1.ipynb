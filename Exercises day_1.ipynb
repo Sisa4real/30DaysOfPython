{
 "cells": [
  {
   "cell_type": "code",
   "execution_count": 1,
   "id": "bd1e8e16",
   "metadata": {},
   "outputs": [
    {
     "name": "stdout",
     "output_type": "stream",
     "text": [
      "Python 3.9.12\n"
     ]
    }
   ],
   "source": [
    "#Level 1\n",
    "\n",
    "!python -V"
   ]
  },
  {
   "cell_type": "code",
   "execution_count": 6,
   "id": "95a2661c",
   "metadata": {},
   "outputs": [
    {
     "name": "stdout",
     "output_type": "stream",
     "text": [
      "7\n",
      "-1\n",
      "12\n",
      "0.75\n",
      "3\n",
      "81\n",
      "0\n",
      "sufiyan\n",
      "Ibrahim\n",
      "Nigeria\n",
      "I am enjoying 30 days of Python\n",
      "<class 'int'>\n",
      "<class 'float'>\n",
      "<class 'float'>\n",
      "<class 'complex'>\n",
      "<class 'list'>\n",
      "<class 'str'>\n",
      "<class 'str'>\n",
      "<class 'str'>\n"
     ]
    }
   ],
   "source": [
    "#level 1\n",
    "\n",
    "#Question 2\n",
    "\n",
    "print(3+4)\n",
    "print(3-4)\n",
    "print(3*4)\n",
    "print(3/4)\n",
    "print(3%4)\n",
    "print(3**4)\n",
    "print(3//4)\n",
    "\n",
    "\n",
    "#Question 3\n",
    "\n",
    "print(\"sufiyan\")\n",
    "print(\"Ibrahim\")\n",
    "print(\"Nigeria\")\n",
    "print(\"I am enjoying 30 days of Python\")\n",
    "\n",
    "#question 4:\n",
    "\n",
    "print(type(10))\n",
    "print(type(9.8))\n",
    "print(type(3.14))\n",
    "print(type(4-4j))\n",
    "print(type([\"Asabeneh\", \"Python\", \"Finland\"]))\n",
    "print(type(\"Sufiyan\"))\n",
    "print(type(\"Ibrahim\"))\n",
    "print(type(\"Nigeria\"))\n"
   ]
  },
  {
   "cell_type": "code",
   "execution_count": null,
   "id": "d198f8a8",
   "metadata": {},
   "outputs": [],
   "source": [
    "#level  3\n",
    "\n",
    "#Question 1\n",
    "\n",
    "Integer: 2, 4, 3, -3\n",
    "\n",
    "Float: 3.9, -9.3, 0.8\n",
    "\n",
    "Complex: 2-9j, 4+3j\n",
    "\n",
    "String : \"Sani\", \"Umar\", \"Nigeria\"\n",
    "\n",
    "Boolean: True, False\n",
    "\n",
    "List: [2,8, 9,]\n",
    "\n",
    "Tuple:  (2007, 2015, 2023)\n",
    "    \n",
    "    \n",
    "Set: {3,8,9,10}\n",
    "    \n",
    "Dictionary: {\"Name\": \"Sufyan\", \"Institution\": \"ABU Zaria\"}\n",
    "\n",
    "\n",
    "\n",
    "\n",
    "\n",
    "\n"
   ]
  },
  {
   "cell_type": "code",
   "execution_count": 7,
   "id": "2c4e4276",
   "metadata": {},
   "outputs": [
    {
     "name": "stdout",
     "output_type": "stream",
     "text": [
      "9.433981132056603\n"
     ]
    }
   ],
   "source": [
    "#Question 2:\n",
    "\n",
    "print((((10-2)**2)+((8-3)**2))**(1/2))"
   ]
  },
  {
   "cell_type": "code",
   "execution_count": null,
   "id": "8eebe572",
   "metadata": {},
   "outputs": [],
   "source": []
  }
 ],
 "metadata": {
  "kernelspec": {
   "display_name": "Python 3 (ipykernel)",
   "language": "python",
   "name": "python3"
  },
  "language_info": {
   "codemirror_mode": {
    "name": "ipython",
    "version": 3
   },
   "file_extension": ".py",
   "mimetype": "text/x-python",
   "name": "python",
   "nbconvert_exporter": "python",
   "pygments_lexer": "ipython3",
   "version": "3.9.12"
  }
 },
 "nbformat": 4,
 "nbformat_minor": 5
}
